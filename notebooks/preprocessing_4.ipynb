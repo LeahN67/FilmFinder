{
  "cells": [
    {
      "cell_type": "code",
      "execution_count": null,
      "metadata": {
        "id": "gZhqxpznOZWS"
      },
      "outputs": [],
      "source": [
        "import pandas as pd\n",
        "import numpy as np\n",
        "import requests\n",
        "import bs4 as bs\n",
        "import urllib.request\n",
        "import time "
      ]
    },
    {
      "cell_type": "markdown",
      "metadata": {
        "id": "xhXPbpjhOZWT"
      },
      "source": [
        "## Extracting features of 2020 movies from Wikipedia"
      ]
    },
    {
      "cell_type": "code",
      "execution_count": null,
      "metadata": {
        "id": "1o9WJASWOZWT"
      },
      "outputs": [],
      "source": [
        "link = \"https://en.wikipedia.org/wiki/List_of_American_films_of_2020\""
      ]
    },
    {
      "cell_type": "code",
      "execution_count": null,
      "metadata": {
        "id": "TIlfZhgwOZWT"
      },
      "outputs": [],
      "source": [
        "source = urllib.request.urlopen(link).read()\n",
        "soup = bs.BeautifulSoup(source,'lxml')"
      ]
    },
    {
      "cell_type": "code",
      "execution_count": null,
      "metadata": {
        "id": "LFytQ2MaOZWT"
      },
      "outputs": [],
      "source": [
        "tables = soup.find_all('table',class_='wikitable sortable')"
      ]
    },
    {
      "cell_type": "code",
      "execution_count": null,
      "metadata": {
        "colab": {
          "base_uri": "https://localhost:8080/"
        },
        "id": "CdSLuBzGOZWT",
        "outputId": "a59c27fc-00d2-4acd-e5c8-3dd746d78baa"
      },
      "outputs": [],
      "source": [
        "len(tables)"
      ]
    },
    {
      "cell_type": "code",
      "execution_count": null,
      "metadata": {
        "colab": {
          "base_uri": "https://localhost:8080/"
        },
        "id": "VoX7c9O-OZWU",
        "outputId": "78637bfa-e750-4c01-df0a-c791c80097b3"
      },
      "outputs": [],
      "source": [
        "type(tables[0])"
      ]
    },
    {
      "cell_type": "code",
      "execution_count": null,
      "metadata": {
        "id": "1y2cECOMOZWU"
      },
      "outputs": [],
      "source": [
        "df1 = pd.read_html(str(tables[0]))[0]\n",
        "df2 = pd.read_html(str(tables[1]))[0]\n",
        "df3 = pd.read_html(str(tables[2]))[0]\n",
        "df4 = pd.read_html(str(tables[3]).replace(\"'1\\\"\\'\",'\"1\"'))[0] # avoided \"ValueError: invalid literal for int() with base 10: '1\"'"
      ]
    },
    {
      "cell_type": "code",
      "execution_count": null,
      "metadata": {
        "id": "t4MN1gZbOZWU"
      },
      "outputs": [],
      "source": [
        "#df = df1.append(df2.append(df3.append(df4,ignore_index=True),ignore_index=True),ignore_index=True)\n",
        "df=pd.concat([df1,df2,df3,df4],ignore_index=True)"
      ]
    },
    {
      "cell_type": "code",
      "execution_count": null,
      "metadata": {
        "colab": {
          "base_uri": "https://localhost:8080/",
          "height": 406
        },
        "id": "4CCunB-rOZWU",
        "outputId": "a4d69bcd-088c-4655-a445-e8ebafdb10e6"
      },
      "outputs": [],
      "source": [
        "df"
      ]
    },
    {
      "cell_type": "code",
      "execution_count": null,
      "metadata": {
        "id": "9enI6QkuOZWV"
      },
      "outputs": [],
      "source": [
        "df_2020 = df[['Title','Cast and crew']]"
      ]
    },
    {
      "cell_type": "code",
      "execution_count": null,
      "metadata": {
        "colab": {
          "base_uri": "https://localhost:8080/",
          "height": 406
        },
        "id": "RT0jPJQQOZWV",
        "outputId": "2d6ab58f-996f-4099-e7bb-3e29abadf43c"
      },
      "outputs": [],
      "source": [
        "df_2020"
      ]
    },
    {
      "cell_type": "code",
      "execution_count": null,
      "metadata": {
        "colab": {
          "base_uri": "https://localhost:8080/"
        },
        "id": "KYTIVryiOkeW",
        "outputId": "629f16ee-2aa7-4b7f-8393-09afdefef5d5"
      },
      "outputs": [],
      "source": [
        "!pip install tmdbv3api"
      ]
    },
    {
      "cell_type": "code",
      "execution_count": null,
      "metadata": {
        "id": "61XvcEzPOZWV"
      },
      "outputs": [],
      "source": [
        "from tmdbv3api import TMDb\n",
        "import json\n",
        "import requests\n",
        "tmdb = TMDb()\n",
        "tmdb.api_key = 'add_your_API_password'"
      ]
    },
    {
      "cell_type": "code",
      "execution_count": null,
      "metadata": {},
      "outputs": [],
      "source": [
        "def get_genre(x):\n",
        "    try:\n",
        "        genres = []\n",
        "        result = tmdb_movie.search(x)\n",
        "        \n",
        "        if not result:\n",
        "            return np.NaN\n",
        "        \n",
        "        movie_id = result[0].id\n",
        "        response = requests.get(f'https://api.themoviedb.org/3/movie/{movie_id}?api_key={tmdb.api_key}')\n",
        "        \n",
        "        if response.status_code != 200:\n",
        "            return np.NaN\n",
        "        \n",
        "        data_json = response.json()\n",
        "        \n",
        "        if 'genres' in data_json and data_json['genres']:\n",
        "            for genre in data_json['genres']:\n",
        "                genres.append(genre['name'])\n",
        "            return \" \".join(genres)\n",
        "        else:\n",
        "            return np.NaN\n",
        "        \n",
        "    except Exception as e:\n",
        "        print(f\"Error processing {x}: {e}\")\n",
        "        return np.NaN\n",
        "    finally:\n",
        "        # Delay between requests to avoid hitting API rate limits\n",
        "        time.sleep(1)\n",
        "\n",
        "# Map the genres to the dataframe\n",
        "df_2020['genres'] = df_2020['Title'].map(lambda x: get_genre(str(x)))\n"
      ]
    },
    {
      "cell_type": "code",
      "execution_count": null,
      "metadata": {
        "colab": {
          "base_uri": "https://localhost:8080/",
          "height": 406
        },
        "id": "aiwOqJZMOZWV",
        "outputId": "032dfad5-985e-4d24-9fed-ed92c9edfba3"
      },
      "outputs": [],
      "source": [
        "df_2020"
      ]
    },
    {
      "cell_type": "code",
      "execution_count": null,
      "metadata": {
        "id": "GcqUuFyiOZWW"
      },
      "outputs": [],
      "source": [
        "def get_director(x):\n",
        "    if \" (director)\" in x:\n",
        "        return x.split(\" (director)\")[0]\n",
        "    elif \" (directors)\" in x:\n",
        "        return x.split(\" (directors)\")[0]\n",
        "    else:\n",
        "        return x.split(\" (director/screenplay)\")[0]"
      ]
    },
    {
      "cell_type": "code",
      "execution_count": null,
      "metadata": {
        "colab": {
          "base_uri": "https://localhost:8080/"
        },
        "id": "A7RzXkBQOZWW",
        "outputId": "161deb48-6037-468b-c4b4-44cd51d0efc1"
      },
      "outputs": [],
      "source": [
        "df_2020['director_name'] = df_2020['Cast and crew'].map(lambda x: get_director(str(x)))"
      ]
    },
    {
      "cell_type": "code",
      "execution_count": null,
      "metadata": {
        "id": "wwBWFgBSOZWW"
      },
      "outputs": [],
      "source": [
        "def get_actor1(x):\n",
        "    return ((x.split(\"screenplay); \")[-1]).split(\", \")[0])"
      ]
    },
    {
      "cell_type": "code",
      "execution_count": null,
      "metadata": {
        "colab": {
          "base_uri": "https://localhost:8080/"
        },
        "id": "gxr9Y4IJOZWW",
        "outputId": "68904c09-7d50-424d-e908-804489e84d05"
      },
      "outputs": [],
      "source": [
        "df_2020['actor_1_name'] = df_2020['Cast and crew'].map(lambda x: get_actor1(str(x)))"
      ]
    },
    {
      "cell_type": "code",
      "execution_count": null,
      "metadata": {
        "id": "Qc7I49gVOZWX"
      },
      "outputs": [],
      "source": [
        "def get_actor2(x):\n",
        "    if len((x.split(\"screenplay); \")[-1]).split(\", \")) < 2:\n",
        "        return np.NaN\n",
        "    else:\n",
        "        return ((x.split(\"screenplay); \")[-1]).split(\", \")[1])"
      ]
    },
    {
      "cell_type": "code",
      "execution_count": null,
      "metadata": {
        "id": "ipspWbjaOZWX"
      },
      "outputs": [],
      "source": [
        "df_2020['actor_2_name'] = df_2020['Cast and crew'].map(lambda x: get_actor2(str(x)))"
      ]
    },
    {
      "cell_type": "code",
      "execution_count": null,
      "metadata": {
        "id": "pQmab5aiOZWX"
      },
      "outputs": [],
      "source": [
        "def get_actor3(x):\n",
        "    if len((x.split(\"screenplay); \")[-1]).split(\", \")) < 3:\n",
        "        return np.NaN\n",
        "    else:\n",
        "        return ((x.split(\"screenplay); \")[-1]).split(\", \")[2])"
      ]
    },
    {
      "cell_type": "code",
      "execution_count": null,
      "metadata": {
        "id": "vWSs45LWOZWX"
      },
      "outputs": [],
      "source": [
        "df_2020['actor_3_name'] = df_2020['Cast and crew'].map(lambda x: get_actor3(str(x)))"
      ]
    },
    {
      "cell_type": "code",
      "execution_count": null,
      "metadata": {
        "colab": {
          "base_uri": "https://localhost:8080/",
          "height": 406
        },
        "id": "2xDIRn7DOZWX",
        "outputId": "ad8d83b3-a608-43db-eeff-53a434ab3d4f"
      },
      "outputs": [],
      "source": [
        "df_2020"
      ]
    },
    {
      "cell_type": "code",
      "execution_count": null,
      "metadata": {
        "id": "rBUUnUtfOZWX"
      },
      "outputs": [],
      "source": [
        "df_2020 = df_2020.rename(columns={'Title':'movie_title'})"
      ]
    },
    {
      "cell_type": "code",
      "execution_count": null,
      "metadata": {
        "id": "_WCWVlAqOZWX"
      },
      "outputs": [],
      "source": [
        "new_df20 = df_2020.loc[:,['director_name','actor_1_name','actor_2_name','actor_3_name','genres','movie_title']]"
      ]
    },
    {
      "cell_type": "code",
      "execution_count": null,
      "metadata": {
        "colab": {
          "base_uri": "https://localhost:8080/",
          "height": 406
        },
        "id": "i7KBDmu_OZWX",
        "outputId": "6b4de81e-b1ac-4fb0-d349-52ae7c210346"
      },
      "outputs": [],
      "source": [
        "new_df20"
      ]
    },
    {
      "cell_type": "code",
      "execution_count": null,
      "metadata": {
        "id": "0s7XMhqzOZWY"
      },
      "outputs": [],
      "source": [
        "new_df20['comb'] = new_df20['actor_1_name'] + ' ' + new_df20['actor_2_name'] + ' '+ new_df20['actor_3_name'] + ' '+ new_df20['director_name'] +' ' + new_df20['genres']"
      ]
    },
    {
      "cell_type": "code",
      "execution_count": null,
      "metadata": {
        "colab": {
          "base_uri": "https://localhost:8080/"
        },
        "id": "ta_KcPQJOZWY",
        "outputId": "ac6aa7b7-c156-49b2-9e95-3a76f971f5b1"
      },
      "outputs": [],
      "source": [
        "new_df20.isna().sum()"
      ]
    },
    {
      "cell_type": "code",
      "execution_count": null,
      "metadata": {
        "id": "DkKroG5GOZWY"
      },
      "outputs": [],
      "source": [
        "new_df20 = new_df20.dropna(how='any')"
      ]
    },
    {
      "cell_type": "code",
      "execution_count": null,
      "metadata": {
        "colab": {
          "base_uri": "https://localhost:8080/"
        },
        "id": "YOIv1wvhOZWY",
        "outputId": "c3ad579e-16e2-4d8c-d4a0-71891d71b986"
      },
      "outputs": [],
      "source": [
        "new_df20.isna().sum()"
      ]
    },
    {
      "cell_type": "code",
      "execution_count": null,
      "metadata": {
        "colab": {
          "base_uri": "https://localhost:8080/"
        },
        "id": "IB3YmNWROZWY",
        "outputId": "8abccee1-4b9e-436b-de18-eb97298d73a9"
      },
      "outputs": [],
      "source": [
        "new_df20['movie_title'] = new_df20['movie_title'].str.lower()"
      ]
    },
    {
      "cell_type": "code",
      "execution_count": null,
      "metadata": {
        "colab": {
          "base_uri": "https://localhost:8080/",
          "height": 406
        },
        "id": "3e3NnY70OZWZ",
        "outputId": "cf4351f9-93f7-40bc-cc24-ab9e45bd8358"
      },
      "outputs": [],
      "source": [
        "new_df20"
      ]
    },
    {
      "cell_type": "code",
      "execution_count": null,
      "metadata": {
        "id": "BCf9fH_4OZWZ"
      },
      "outputs": [],
      "source": [
        "old_df = pd.read_csv('../data/final_data.csv')"
      ]
    },
    {
      "cell_type": "code",
      "execution_count": null,
      "metadata": {
        "id": "ce2e426yOZWZ",
        "outputId": "7d2c0bd7-6907-4398-c385-829b04ad921e"
      },
      "outputs": [],
      "source": [
        "old_df"
      ]
    },
    {
      "cell_type": "code",
      "execution_count": null,
      "metadata": {
        "id": "P14B9e3GOZWZ"
      },
      "outputs": [],
      "source": [
        "final_df = pd.concat([old_df,new_df20],ignore_index=True)"
      ]
    },
    {
      "cell_type": "code",
      "execution_count": null,
      "metadata": {
        "id": "0RAVcY-jOZWZ",
        "outputId": "0e87fe5f-5a7a-4792-edf3-a5027e667af0"
      },
      "outputs": [],
      "source": [
        "final_df"
      ]
    },
    {
      "cell_type": "code",
      "execution_count": null,
      "metadata": {
        "id": "gCTWwaOiOZWZ"
      },
      "outputs": [],
      "source": [
        "final_df.to_csv('../data/main_data.csv',index=False)"
      ]
    }
  ],
  "metadata": {
    "colab": {
      "collapsed_sections": [],
      "name": "preprocessing 4.ipynb",
      "provenance": []
    },
    "kernelspec": {
      "display_name": "Python 3",
      "language": "python",
      "name": "python3"
    },
    "language_info": {
      "codemirror_mode": {
        "name": "ipython",
        "version": 3
      },
      "file_extension": ".py",
      "mimetype": "text/x-python",
      "name": "python",
      "nbconvert_exporter": "python",
      "pygments_lexer": "ipython3",
      "version": "3.8.0"
    }
  },
  "nbformat": 4,
  "nbformat_minor": 0
}
